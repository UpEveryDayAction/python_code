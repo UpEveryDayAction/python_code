{
 "cells": [
  {
   "cell_type": "code",
   "execution_count": 19,
   "id": "1b1183ce",
   "metadata": {},
   "outputs": [
    {
     "name": "stdout",
     "output_type": "stream",
     "text": [
      "<class 'type'> <class '__main__.myclass'>\n",
      "<class 'str'>\n"
     ]
    }
   ],
   "source": [
    "print(type(myclass),type(person1))\n",
    "s = \"1\"\n",
    "print(type(s))"
   ]
  },
  {
   "cell_type": "code",
   "execution_count": null,
   "id": "c151b52f",
   "metadata": {},
   "outputs": [],
   "source": []
  },
  {
   "cell_type": "code",
   "execution_count": 34,
   "id": "1813096d",
   "metadata": {},
   "outputs": [
    {
     "name": "stdout",
     "output_type": "stream",
     "text": [
      "<class 'tuple'>\n",
      "10\n"
     ]
    }
   ],
   "source": [
    "l = (1,2,3,4,5,5)\n",
    "def mysum(*args):\n",
    "    print(type(args))\n",
    "    return sum(args)\n",
    "print(mysum(1,2,3,4))"
   ]
  },
  {
   "cell_type": "code",
   "execution_count": 47,
   "id": "a096b9dd",
   "metadata": {},
   "outputs": [
    {
     "name": "stdout",
     "output_type": "stream",
     "text": [
      "<class 'tuple'>\n",
      "20\n"
     ]
    }
   ],
   "source": [
    "#tupleを可変長引数として渡す方法\n",
    "\n",
    "l = tuple([1,2,3,4,5,5])\n",
    "def mysum(*args):\n",
    "    print(type(args))\n",
    "    return sum(list(args))\n",
    "print(mysum(*l))\n",
    "#print(mysum(l)) だとエラー"
   ]
  },
  {
   "cell_type": "code",
   "execution_count": 37,
   "id": "575d7760",
   "metadata": {},
   "outputs": [
    {
     "name": "stdout",
     "output_type": "stream",
     "text": [
      "args:  (1, 2, 3, 4)\n",
      "type:  <class 'tuple'>\n",
      "sum :  10\n"
     ]
    }
   ],
   "source": [
    "def my_sum2(*args):\n",
    "    print('args: ', args)\n",
    "    print('type: ', type(args))\n",
    "    print('sum : ', sum(args))\n",
    "my_sum2(1, 2, 3, 4)"
   ]
  },
  {
   "cell_type": "code",
   "execution_count": 39,
   "id": "7b40ddc8",
   "metadata": {},
   "outputs": [
    {
     "name": "stdout",
     "output_type": "stream",
     "text": [
      "arg1:  0\n",
      "arg2:  1\n",
      "9\n"
     ]
    }
   ],
   "source": [
    "def func_args(arg1, arg2, *args):\n",
    "    print('arg1: ', arg1)\n",
    "    print('arg2: ', arg2)\n",
    "    print(sum(args))\n",
    "\n",
    "func_args(0, 1, 2, 3, 4)"
   ]
  },
  {
   "cell_type": "code",
   "execution_count": 45,
   "id": "046d8b57",
   "metadata": {},
   "outputs": [
    {
     "name": "stdout",
     "output_type": "stream",
     "text": [
      "arg1:  0\n",
      "arg2:  4\n",
      "args:  (1, 2, 3)\n"
     ]
    }
   ],
   "source": [
    "def func_args2(arg1, *args, arg2):\n",
    "    print('arg1: ', arg1)\n",
    "    print('arg2: ', arg2)\n",
    "    print('args: ', args)\n",
    "#func_args2(0, 1, 2, 3, 4)\n",
    "func_args2(0, 1, 2, 3, arg2=4)"
   ]
  },
  {
   "cell_type": "code",
   "execution_count": 46,
   "id": "1266302e",
   "metadata": {},
   "outputs": [
    {
     "name": "stdout",
     "output_type": "stream",
     "text": [
      "arg1:  100\n",
      "arg2:  200\n"
     ]
    }
   ],
   "source": [
    "def func_args_kw_only(arg1, *, arg2):\n",
    "    print('arg1: ', arg1)\n",
    "    print('arg2: ', arg2)\n",
    "func_args_kw_only(100, arg2=200)"
   ]
  },
  {
   "cell_type": "code",
   "execution_count": 48,
   "id": "a12945b1",
   "metadata": {},
   "outputs": [
    {
     "name": "stdout",
     "output_type": "stream",
     "text": [
      "arg1one\n",
      "two\n",
      "three\n"
     ]
    }
   ],
   "source": [
    "def func_args(arg1, *args):\n",
    "    print(\"arg1: \"+arg1)\n",
    "    for arg in args:\n",
    "        print(arg)\n",
    "func_args(*['one', 'two', 'three'])"
   ]
  },
  {
   "cell_type": "code",
   "execution_count": 50,
   "id": "877a5372",
   "metadata": {},
   "outputs": [
    {
     "name": "stdout",
     "output_type": "stream",
     "text": [
      "one\n",
      "two\n",
      "three\n"
     ]
    }
   ],
   "source": [
    "def func(arg1, arg2, arg3):\n",
    "    print(arg1)\n",
    "    print(arg2)\n",
    "    print(arg3)\n",
    "#arg1=oneというキーワード引数として関数に渡される\n",
    "d = {'arg1': 'one', 'arg2': 'two', 'arg3': 'three'}\n",
    "func(**d)"
   ]
  },
  {
   "cell_type": "code",
   "execution_count": null,
   "id": "6eb1d773",
   "metadata": {},
   "outputs": [],
   "source": []
  }
 ],
 "metadata": {
  "kernelspec": {
   "display_name": "Python 3",
   "language": "python",
   "name": "python3"
  },
  "language_info": {
   "codemirror_mode": {
    "name": "ipython",
    "version": 3
   },
   "file_extension": ".py",
   "mimetype": "text/x-python",
   "name": "python",
   "nbconvert_exporter": "python",
   "pygments_lexer": "ipython3",
   "version": "3.6.13"
  }
 },
 "nbformat": 4,
 "nbformat_minor": 5
}
