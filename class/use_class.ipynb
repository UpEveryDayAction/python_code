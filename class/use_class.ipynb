{
 "cells": [
  {
   "cell_type": "code",
   "execution_count": 11,
   "id": "8ef8bf90",
   "metadata": {},
   "outputs": [
    {
     "name": "stdout",
     "output_type": "stream",
     "text": [
      "welcome 200269km 100's shop\n",
      "candy 100\n",
      "hat 300\n",
      "お会計は 400 になります\n"
     ]
    }
   ],
   "source": [
    "class Cart:\n",
    "    goods = {}\n",
    "    price = 100\n",
    "    goods_name = ''\n",
    "    \n",
    "    def __init__(self):\n",
    "        print(\"welcome 200269km 100's shop\")\n",
    "        \n",
    "    def add100_cart(self, goods_name):\n",
    "        self.goods[goods_name] = self.price\n",
    "        \n",
    "    def add_cart(self, goods_name, input_price):\n",
    "        self.goods[goods_name] = input_price\n",
    "    \n",
    "    def cal_cart(self):\n",
    "        sum = 0\n",
    "        for key in self.goods:\n",
    "            sum += self.goods[key]\n",
    "            print(key,str(self.goods[key]))\n",
    "        print('お会計は',str(sum),'になります')\n",
    "\n",
    "cart = Cart()\n",
    "cart.add100_cart('candy')\n",
    "cart.add_cart('hat',300)\n",
    "cart.cal_cart()"
   ]
  },
  {
   "cell_type": "code",
   "execution_count": 57,
   "id": "27627423",
   "metadata": {},
   "outputs": [
    {
     "name": "stdout",
     "output_type": "stream",
     "text": [
      "Quincy party count is  1\n",
      "Miya party count is  1\n",
      "Quincy party count is  2\n",
      "Miya party count is  2\n",
      "Quincy party count is  3\n",
      "Miya party count is  3\n",
      "Quincy party count is  4\n",
      "Miya party count is over limit\n",
      "Quincy party count is  5\n",
      "Miya party count is over limit\n"
     ]
    }
   ],
   "source": [
    "class limit:\n",
    "    #n =5\n",
    "\n",
    "    def set_limit(self, n):\n",
    "        self.n = n\n",
    "        return self\n",
    "\n",
    "class Party(limit):\n",
    "    \n",
    "    x = 0\n",
    "    #name = ''\n",
    "    l = limit()\n",
    "    \n",
    "    def __init__(self, name, l):\n",
    "        self.name = name\n",
    "        self.l = l\n",
    "        self.n = l.n\n",
    "        \n",
    "    def party(self):\n",
    "        if (self.x < self.n):\n",
    "            self.x = self.x + 1\n",
    "            print(self.name,'party count is ',str(self.x))\n",
    "\n",
    "        else:\n",
    "            print(self.name,'party count is over limit')\n",
    "\n",
    "limit1 = limit().set_limit(4)\n",
    "limit2 = limit().set_limit(3)\n",
    "\n",
    "\n",
    "q = Party('Quincy',l1)\n",
    "m = Party('Miya',l2)\n",
    "\n",
    "for i in range(5):\n",
    "    q.party()\n",
    "    m.party()\n",
    "    \n"
   ]
  },
  {
   "cell_type": "code",
   "execution_count": 55,
   "id": "3edf3c68",
   "metadata": {},
   "outputs": [
    {
     "name": "stdout",
     "output_type": "stream",
     "text": [
      "apple さんこんにちは\n"
     ]
    }
   ],
   "source": [
    "class Person():\n",
    "    def __init__(self,name,age):\n",
    "        self.name = name\n",
    "        self.age = age\n",
    "class JapanesePerson(Person):\n",
    "    def __init__(self,name,age):\n",
    "        super().__init__(name,age)\n",
    "    def say_hello(self):\n",
    "        print(self.name,'さんこんにちは')\n",
    "j = JapanesePerson('apple',35)\n",
    "j.say_hello()"
   ]
  },
  {
   "cell_type": "code",
   "execution_count": null,
   "id": "583e780b",
   "metadata": {},
   "outputs": [],
   "source": []
  }
 ],
 "metadata": {
  "kernelspec": {
   "display_name": "Python 3",
   "language": "python",
   "name": "python3"
  },
  "language_info": {
   "codemirror_mode": {
    "name": "ipython",
    "version": 3
   },
   "file_extension": ".py",
   "mimetype": "text/x-python",
   "name": "python",
   "nbconvert_exporter": "python",
   "pygments_lexer": "ipython3",
   "version": "3.6.13"
  }
 },
 "nbformat": 4,
 "nbformat_minor": 5
}
