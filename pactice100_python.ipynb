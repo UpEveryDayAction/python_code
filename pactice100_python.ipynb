{
 "cells": [
  {
   "cell_type": "markdown",
   "metadata": {},
   "source": [
    "kindleのPython演習問題100問パック"
   ]
  },
  {
   "cell_type": "code",
   "execution_count": null,
   "metadata": {},
   "outputs": [],
   "source": [
    "#10\n",
    "for i in range(1,31):\n",
    "    if i%3 ==0 and '3' in str(i):\n",
    "        print(i)"
   ]
  },
  {
   "cell_type": "code",
   "execution_count": null,
   "metadata": {},
   "outputs": [],
   "source": [
    "#9\n",
    "#3の倍数だけを辞書に追加する\n",
    "nums = []\n",
    "for i in range(1,31):\n",
    "    if i%3 == 0:\n",
    "        nums.append(i)\n",
    "print(nums)\n",
    "\n",
    "n_d = {str(nums.index(n)+1)+\"番目\" : n for n in nums}\n",
    "print(n_d)"
   ]
  },
  {
   "cell_type": "code",
   "execution_count": 3,
   "metadata": {},
   "outputs": [
    {
     "name": "stdout",
     "output_type": "stream",
     "text": [
      "体重kg,身長cmをスペース区切りで入力してください\n",
      "60 170\n",
      "20.761245674740486\n"
     ]
    }
   ],
   "source": [
    "#11 BMIを計算する\n",
    "weight,height = (int(x) for x in input('体重kg,身長cmをスペース区切りで入力してください\\n').split())\n",
    "print(weight/((height/100)**2))"
   ]
  },
  {
   "cell_type": "code",
   "execution_count": 7,
   "metadata": {},
   "outputs": [
    {
     "name": "stdout",
     "output_type": "stream",
     "text": [
      "時速を入力してください72\n",
      "秒速20.0m/s\n"
     ]
    }
   ],
   "source": [
    "#13\n",
    "\n",
    "km_h = int(input('時速を入力してください'))\n",
    "m = 1000\n",
    "s = 60*60\n",
    "print('秒速'+str((km_h*1000)/(60*60))+'m/s')"
   ]
  },
  {
   "cell_type": "code",
   "execution_count": 12,
   "metadata": {},
   "outputs": [
    {
     "name": "stdout",
     "output_type": "stream",
     "text": [
      "3\n",
      "336\n"
     ]
    }
   ],
   "source": [
    "#14　整数aを入力したらa+aaaを計算するプログラム\n",
    "a = input()\n",
    "\n",
    "#a = int(a)をここでしてしまうと次の処理に不具合が出る\n",
    "aaa = int(a*3)\n",
    "a = int(a)\n",
    "\n",
    "print(aaa+a)\n"
   ]
  },
  {
   "cell_type": "code",
   "execution_count": 16,
   "metadata": {},
   "outputs": [
    {
     "name": "stdout",
     "output_type": "stream",
     "text": [
      "整数を入力してください5\n",
      "整数を入力してください10\n",
      "5\n"
     ]
    }
   ],
   "source": [
    "a = int(input('整数を入力してください'))\n",
    "b = int(input('整数を入力してください'))\n",
    "if a - b < 0:\n",
    "    a,b = b,a #二つの数を交換しやすいpython\n",
    "print(a-b)"
   ]
  },
  {
   "cell_type": "code",
   "execution_count": 19,
   "metadata": {},
   "outputs": [
    {
     "name": "stdout",
     "output_type": "stream",
     "text": [
      "文字を入力してくださいpython\n",
      "6\n",
      "最初の文字 p 最後の文字 n\n"
     ]
    }
   ],
   "source": [
    "#16,17 文字列の長さを求める\n",
    "s = input('文字を入力してください')\n",
    "print(len(s))\n",
    "print('最初の文字',s[0],'最後の文字',s[len(s)-1])"
   ]
  },
  {
   "cell_type": "code",
   "execution_count": null,
   "metadata": {},
   "outputs": [],
   "source": [
    "#18,19覚える"
   ]
  },
  {
   "cell_type": "code",
   "execution_count": 23,
   "metadata": {},
   "outputs": [
    {
     "name": "stdout",
     "output_type": "stream",
     "text": [
      "英単語を入力してくださいhellohelloayaka\n",
      "{'h': 2, 'e': 2, 'l': 4, 'o': 2, 'a': 3, 'y': 1, 'k': 1}\n"
     ]
    }
   ],
   "source": [
    "#18 入力した文字の頻度をカウントする\n",
    "s = input('英単語を入力してください')\n",
    "d_s = {}\n",
    "for i in range(len(s)):\n",
    "    d_s[s[i]] = d_s.get(s[i],0) +1\n",
    "    #print(s[i])\n",
    "print(d_s)"
   ]
  },
  {
   "cell_type": "code",
   "execution_count": 27,
   "metadata": {},
   "outputs": [
    {
     "name": "stdout",
     "output_type": "stream",
     "text": [
      "英単語を入力してくださいpythonpractice\n",
      "pythnprctc\n"
     ]
    }
   ],
   "source": [
    "#19 母音(cutリスト)を単語から取り除く\n",
    "strs = input('英単語を入力してください')\n",
    "l_s = []\n",
    "cut = ['a','i','u','e','o']\n",
    "for s in strs:\n",
    "    if s in cut:\n",
    "        continue\n",
    "    l_s.append(s)\n",
    "print(''.join(l_s))\n"
   ]
  },
  {
   "cell_type": "code",
   "execution_count": 36,
   "metadata": {},
   "outputs": [
    {
     "name": "stdout",
     "output_type": "stream",
     "text": [
      "英単語を入力してくださいAppLe\n",
      "aPPlE\n"
     ]
    }
   ],
   "source": [
    "#20 入力したローマ字が大文字だったら小文字に、小文字だったら大文字にする\n",
    "strs = input('英単語を入力してください')\n",
    "strs = list(strs)\n",
    "for i in range(len(strs)):\n",
    "    if strs[i] == strs[i].upper():\n",
    "        strs[i] = strs[i].lower()\n",
    "    elif strs[i] == strs[i].lower():\n",
    "        strs[i] = strs[i].upper()\n",
    "print(''.join(strs))"
   ]
  },
  {
   "cell_type": "code",
   "execution_count": 41,
   "metadata": {
    "scrolled": true
   },
   "outputs": [
    {
     "name": "stdout",
     "output_type": "stream",
     "text": [
      "1つめの文字列を入力してくださいpython\n",
      "2つめの文字列を入力してくださいphp\n",
      "p h\n"
     ]
    }
   ],
   "source": [
    "#22 2つの文字列を入力して重複する部分だけ出力するプログラムを作成\n",
    "s1 = set(input('1つめの文字列を入力してください'))\n",
    "s2 = set(input('2つめの文字列を入力してください'))\n",
    "s_and = s1 and s2\n",
    "print(' '.join(s_and))"
   ]
  },
  {
   "cell_type": "markdown",
   "metadata": {},
   "source": [
    "#23 input\n",
    "Python is hard\n",
    "PHP is easy"
   ]
  },
  {
   "cell_type": "code",
   "execution_count": 1,
   "metadata": {
    "scrolled": true
   },
   "outputs": [
    {
     "name": "stdout",
     "output_type": "stream",
     "text": [
      "1つめの文字列を入力してくださいPython is hard.\n",
      "{'Python', 'hard.', 'is'}\n",
      "2つめの文字列を入力してくださいPHP is easy\n",
      "{'is'}\n"
     ]
    }
   ],
   "source": [
    "#23 重複する英単語を出力する\n",
    "s1 = set(input('1つめの文字列を入力してください').split())\n",
    "print(s1)\n",
    "s2 = set(input('2つめの文字列を入力してください').split())\n",
    "s_and = s1 & s2 ### and　ではないことに注意\n",
    "print(s_and)"
   ]
  },
  {
   "cell_type": "markdown",
   "metadata": {},
   "source": [
    "#覚える"
   ]
  },
  {
   "cell_type": "markdown",
   "metadata": {},
   "source": [
    "#24　入力\n",
    "apple \n",
    "python\n"
   ]
  },
  {
   "cell_type": "code",
   "execution_count": 18,
   "metadata": {},
   "outputs": [
    {
     "name": "stdout",
     "output_type": "stream",
     "text": [
      "英単語を入力してくださいpython\n",
      "pyt@hon\n"
     ]
    }
   ],
   "source": [
    "#24 文字数が奇数であれば真ん中を@に置き換え、また偶数なら真ん中に@を挿入する\n",
    "def point(s):\n",
    "    n = len(s)\n",
    "    #n = int(n/2)\n",
    "    if n%2 == 0:\n",
    "        s =   s[0:int(n/2)] +'@'+s[int(n/2):] \n",
    "    else:\n",
    "        s =   s[0:int(n/2)] +'@'+s[int(n/2)+1:] \n",
    "    return s\n",
    "\n",
    "\n",
    "s1 = input('英単語を入力してください')\n",
    "print(point(s1))"
   ]
  },
  {
   "cell_type": "code",
   "execution_count": 7,
   "metadata": {},
   "outputs": [
    {
     "name": "stdout",
     "output_type": "stream",
     "text": [
      "ap\n",
      "ap@\n"
     ]
    }
   ],
   "source": [
    "#24のメモ\n",
    "s = 'apple'\n",
    "print(s[0:2])\n",
    "s2 = s[0:2] +'@'\n",
    "print(s2)"
   ]
  },
  {
   "cell_type": "markdown",
   "metadata": {},
   "source": [
    "#25 入力\n",
    "python\n",
    "ruby\n",
    "java"
   ]
  },
  {
   "cell_type": "code",
   "execution_count": 25,
   "metadata": {},
   "outputs": [
    {
     "name": "stdout",
     "output_type": "stream",
     "text": [
      "input no1:python\n",
      "input no2:ruby\n",
      "input no3:java\n",
      "['java', 'python', 'ruby']\n"
     ]
    }
   ],
   "source": [
    "##25　入力した3つの単語をカンマ区切りでアルファベット順になるよう並び替える\n",
    "l = []\n",
    "for i in range(3):\n",
    "    l.append(input('input no'+str(i+1)+' : '))\n",
    "#l.append(input('input no2'))\n",
    "#l.append(input('input no3'))\n",
    "print(sorted(l))\n"
   ]
  },
  {
   "cell_type": "code",
   "execution_count": 39,
   "metadata": {},
   "outputs": [
    {
     "name": "stdout",
     "output_type": "stream",
     "text": [
      "15\n"
     ]
    }
   ],
   "source": [
    "#26 リストに格納されている数値を足し合わせる\n",
    "l=[1,2,3,4,5]\n",
    "s = 0\n",
    "for i in l:\n",
    "    s += i\n",
    "print(s)"
   ]
  },
  {
   "cell_type": "code",
   "execution_count": 2,
   "metadata": {},
   "outputs": [
    {
     "name": "stdout",
     "output_type": "stream",
     "text": [
      "15\n"
     ]
    }
   ],
   "source": [
    "#27 組み込み関数を使って#26を解く\n",
    "l=[1,2,3,4,5]\n",
    "s = sum(l)\n",
    "print(s)"
   ]
  },
  {
   "cell_type": "code",
   "execution_count": 3,
   "metadata": {},
   "outputs": [
    {
     "name": "stdout",
     "output_type": "stream",
     "text": [
      "5\n"
     ]
    }
   ],
   "source": [
    "#28 配列の中の最大値を出力する\n",
    "max_value = 0\n",
    "l = [1,2,3,4,5]\n",
    "for i in l:\n",
    "    if i > max_value:\n",
    "        max_value = i\n",
    "print(max_value)"
   ]
  },
  {
   "cell_type": "code",
   "execution_count": 4,
   "metadata": {},
   "outputs": [
    {
     "name": "stdout",
     "output_type": "stream",
     "text": [
      "5\n"
     ]
    }
   ],
   "source": [
    "#29　組み込み関数を使用し#28を解く\n",
    "l = [1,2,3,4,5]\n",
    "print(max(l))"
   ]
  },
  {
   "cell_type": "code",
   "execution_count": 6,
   "metadata": {},
   "outputs": [
    {
     "name": "stdout",
     "output_type": "stream",
     "text": [
      "[1, 2, 3, 4, 5]\n"
     ]
    }
   ],
   "source": [
    "#30 リストから重複している値を削除する\n",
    "def f(l):\n",
    "    s = set(l)\n",
    "    l = list(s)\n",
    "    return l\n",
    "\n",
    "l = [1,2,2,3,3,4,5]\n",
    "l = f(l)\n",
    "print(l)"
   ]
  },
  {
   "cell_type": "code",
   "execution_count": 9,
   "metadata": {},
   "outputs": [
    {
     "name": "stdout",
     "output_type": "stream",
     "text": [
      "PHP\n"
     ]
    }
   ],
   "source": [
    "#31　リストの文字列で一番短い単語を出力するプログラム\n",
    "l = ['Python','Ruby','PHP','JavaScript']\n",
    "len_shortest = None\n",
    "for i in l:\n",
    "    if len_shortest is None or len(i) < len(len_shortest):\n",
    "        len_shortest = i\n",
    "print(len_shortest)"
   ]
  },
  {
   "cell_type": "markdown",
   "metadata": {},
   "source": [
    "#覚える\n"
   ]
  },
  {
   "cell_type": "code",
   "execution_count": 13,
   "metadata": {},
   "outputs": [
    {
     "name": "stdout",
     "output_type": "stream",
     "text": [
      "PHP\n",
      "['PHP', 'Ruby', 'Python', 'JavaScript']\n"
     ]
    }
   ],
   "source": [
    "##32 リストを文字が短い順にならべなさい\n",
    "def pop_shortest(l):\n",
    "    len_shortest = None\n",
    "    for i in l:\n",
    "        if len_shortest is None or len(i) < len(len_shortest):\n",
    "            len_shortest = i\n",
    "    else:\n",
    "        print\n",
    "        l.pop(l.index(len_shortest))\n",
    "    return len_shortest\n",
    "        \n",
    "l = ['Python','Ruby','PHP','JavaScript']\n",
    "print(len_shortest)\n",
    "n_l = []\n",
    "\n",
    "for i in range(len(l)):\n",
    "    n_l.append(pop_shortest(l))\n",
    "print(n_l)"
   ]
  },
  {
   "cell_type": "code",
   "execution_count": 14,
   "metadata": {},
   "outputs": [
    {
     "name": "stdout",
     "output_type": "stream",
     "text": [
      "{'Ruby', 'Python'}\n"
     ]
    }
   ],
   "source": [
    "#33 二つのリストに共通の値を出力する\n",
    "l1 = ['Python','Ruby','PHP','JavaScript']\n",
    "l2 = ['Java','Ruby','Golang','Python','TypeScript']\n",
    "s1 = set(l1)\n",
    "s2 = set(l2)\n",
    "print(s1 & s2)"
   ]
  },
  {
   "cell_type": "code",
   "execution_count": 17,
   "metadata": {
    "scrolled": true
   },
   "outputs": [
    {
     "name": "stdout",
     "output_type": "stream",
     "text": [
      "[1, 3, 5, 7, 9]\n",
      "[1, 3, 5, 7, 9]\n"
     ]
    }
   ],
   "source": [
    "#34　奇数のインデックスを出力する\n",
    "l = [1,2,3,4,5,6,7,8,9,10]\n",
    "l2 = [ i for i in l if i%2 == 1]\n",
    "print(l2)\n",
    "\n",
    "\"\"\"\n",
    "print(l[0::2])\n",
    "この場合はインデックスからスライスでも処理できる\n",
    "\"\"\"\n"
   ]
  },
  {
   "cell_type": "code",
   "execution_count": null,
   "metadata": {},
   "outputs": [],
   "source": [
    "#覚える"
   ]
  },
  {
   "cell_type": "code",
   "execution_count": 23,
   "metadata": {},
   "outputs": [
    {
     "name": "stdout",
     "output_type": "stream",
     "text": [
      "[2, 6, 10]\n"
     ]
    }
   ],
   "source": [
    "#35 　リストからint型だけを取り出したリストを出力する\n",
    "l = ['1',2,'3',4.0,'5',6,'7',8.0,'9',10]\n",
    "l2 = [i for i in l if type(i) == type(int(i))]\n",
    "print(l2)"
   ]
  },
  {
   "cell_type": "code",
   "execution_count": null,
   "metadata": {},
   "outputs": [],
   "source": [
    "#36　出力\n",
    "[[1,2,3,4,5],[6,7,8,9,10]]"
   ]
  },
  {
   "cell_type": "code",
   "execution_count": 27,
   "metadata": {},
   "outputs": [
    {
     "name": "stdout",
     "output_type": "stream",
     "text": [
      "[[1, 2, 3, 4, 5], [6, 7, 8, 9, 10]]\n"
     ]
    }
   ],
   "source": [
    "#36　　2つのリストが格納されたリストを出力するプログラムを2行で作成\n",
    "l =[ [i for i in range(1,6)], [j for j in range(6,11)]]\n",
    "print(l)"
   ]
  },
  {
   "cell_type": "code",
   "execution_count": 31,
   "metadata": {},
   "outputs": [
    {
     "name": "stdout",
     "output_type": "stream",
     "text": [
      "[1, 2, 3, 4, 5, 6, 7, 8, 9, 10]\n"
     ]
    }
   ],
   "source": [
    "#37 #36のリストを一次元にするプログラムを3行以下で作成\n",
    "l =  [[1,2,3,4,5],[6,7,8,9,10]]\n",
    "l2 = [ l[i][j] for i  in range(len(l)) for j in range(len(l[0]) ) ]\n",
    "print(l2)"
   ]
  },
  {
   "cell_type": "code",
   "execution_count": 35,
   "metadata": {},
   "outputs": [
    {
     "name": "stdout",
     "output_type": "stream",
     "text": [
      "[1, 2, 3]\n",
      "リストは空です\n"
     ]
    }
   ],
   "source": [
    "#38 空のリストを判定する\n",
    "\n",
    "def check_none(l):\n",
    "    if l:\n",
    "        print(l)\n",
    "    else:   \n",
    "        print('リストは空です')\n",
    "        \n",
    "l = [1,2,3]\n",
    "l2 = []\n",
    "\n",
    "check_none(l)\n",
    "check_none(l2)\n",
    "\n"
   ]
  },
  {
   "cell_type": "code",
   "execution_count": 2,
   "metadata": {},
   "outputs": [
    {
     "name": "stdout",
     "output_type": "stream",
     "text": [
      "[10, 18, 24, 28, 30]\n"
     ]
    }
   ],
   "source": [
    "#39 \n",
    "l1=[1,2,3,4,5]\n",
    "l2 =[10,9,8,7,6]\n",
    "l3 = []\n",
    "for i in range(5):\n",
    "    l3.append(l1[i]*l2[i])\n",
    "print(l3)"
   ]
  },
  {
   "cell_type": "code",
   "execution_count": 19,
   "metadata": {},
   "outputs": [
    {
     "name": "stdout",
     "output_type": "stream",
     "text": [
      "max ->  3 min -> 0.0\n",
      "[1, 3, 0.0]\n"
     ]
    },
    {
     "data": {
      "text/plain": [
       "'\\nfor i in l:\\n    if i == str(i):\\n        l.pop(i)\\n        print(i)\\nprint(l)\\n'"
      ]
     },
     "execution_count": 19,
     "metadata": {},
     "output_type": "execute_result"
    }
   ],
   "source": [
    "#40 覚える\n",
    "l = [1,'22',3,'444',0.0,'5']\n",
    "l2 = [x for x in l if x == int(x)]\n",
    "print('max -> ', str(max(l2)),'min ->',str(min(l2)))\n",
    "print(l2)\n",
    "\"\"\"\n",
    "for i in l:\n",
    "    if i == str(i):\n",
    "        l.pop(i)\n",
    "        print(i)\n",
    "print(l)\n",
    "\"\"\""
   ]
  },
  {
   "cell_type": "code",
   "execution_count": 28,
   "metadata": {},
   "outputs": [
    {
     "name": "stdout",
     "output_type": "stream",
     "text": [
      "[0, 1, 4, 5]\n"
     ]
    }
   ],
   "source": [
    "#41 インデックスと値が同じ値だけを出力する\n",
    "# output ---> [0,'1','4',5]\n",
    "\n",
    "l = [0,'1',3,2,'4',5,'7']\n",
    "l2 = [ i for i in range(len(l)) if int(l[i]) == i]\n",
    "print(l2)        "
   ]
  },
  {
   "cell_type": "code",
   "execution_count": 31,
   "metadata": {},
   "outputs": [
    {
     "name": "stdout",
     "output_type": "stream",
     "text": [
      "重複していません\n",
      "[1, 2, 3]\n"
     ]
    }
   ],
   "source": [
    "#42 重複する値があるかを確認\n",
    "l = [1,2,3]\n",
    "l2 = list(set(l))\n",
    "#l2 = (set(l) ではNG\n",
    "\n",
    "if l == l2:\n",
    "    print('重複していません')\n",
    "else:\n",
    "    print('重複する値があります')\n",
    "\n",
    "print(l2)"
   ]
  },
  {
   "cell_type": "code",
   "execution_count": 36,
   "metadata": {},
   "outputs": [
    {
     "name": "stdout",
     "output_type": "stream",
     "text": [
      "[1, 2, 3, 4, 'aaa', 'bbb', 'ccc', 'ddd']\n"
     ]
    }
   ],
   "source": [
    "#43 データ型ごとにソートする\n",
    "l = [1,'aaa',2,'bbb','ccc',3,'ddd',4]\n",
    "l_str = []; l_int = []\n",
    "for data in l:\n",
    "    if type(data) == type('1'):\n",
    "        l_str.append(data)\n",
    "    elif type(data) == type(1):\n",
    "        l_int.append(data)\n",
    "else:\n",
    "    l_str.sort(); l_int.sort()\n",
    "print(l_int+l_str)\n",
    "        "
   ]
  },
  {
   "cell_type": "code",
   "execution_count": 37,
   "metadata": {},
   "outputs": [
    {
     "name": "stdout",
     "output_type": "stream",
     "text": [
      "[1, 2, 3, 4, 'aaa', 'bbb', 'ccc', 'ddd']\n"
     ]
    }
   ],
   "source": [
    "#43 別解\n",
    "\n",
    "l = [1,'aaa',2,'bbb','ccc',3,'ddd',4]\n",
    "\n",
    "l_str = []; l_int = []\n",
    "for data in l:\n",
    "    if isinstance(data,str):\n",
    "        l_str.append(data)\n",
    "    elif isinstance(data,int):\n",
    "        l_int.append(data)\n",
    "else:\n",
    "    l_str.sort(); l_int.sort()\n",
    "print(l_int+l_str)"
   ]
  },
  {
   "cell_type": "code",
   "execution_count": 3,
   "metadata": {},
   "outputs": [
    {
     "name": "stdout",
     "output_type": "stream",
     "text": [
      "文字列は入っていません\n"
     ]
    }
   ],
   "source": [
    "#44 指定したリストに文字列が入っているかを判定するプログラム\n",
    "\n",
    "l = [1,2,3,'4',5]\n",
    "l2 = [1,2,3,4,5]\n",
    "\n",
    "for data in l2:\n",
    "    if isinstance(data,str):\n",
    "        print('文字列が入っています')\n",
    "        break\n",
    "else:\n",
    "    print('文字列は入っていません')"
   ]
  },
  {
   "cell_type": "code",
   "execution_count": 20,
   "metadata": {
    "scrolled": true
   },
   "outputs": [
    {
     "name": "stdout",
     "output_type": "stream",
     "text": [
      "0\n",
      "2\n",
      "4\n",
      "6\n",
      "8\n",
      "['list', 1, 'list', 2, 'list', 3, 'list', 4, 'list', 5]\n"
     ]
    }
   ],
   "source": [
    "#45 すべての要素前に文字列'list'を追加するプログラム\n",
    "l = [1,2,3,4,5]\n",
    "for i in range(0,len(l)*2,2):\n",
    "    if l[i] == int(l[i]):\n",
    "        l.insert(l.index(l[i]),'list')\n",
    "        print(i)\n",
    "print(l)"
   ]
  },
  {
   "cell_type": "markdown",
   "metadata": {},
   "source": [
    "#覚える"
   ]
  },
  {
   "cell_type": "code",
   "execution_count": 30,
   "metadata": {},
   "outputs": [
    {
     "name": "stdout",
     "output_type": "stream",
     "text": [
      "['Java1', 1, 'Java2', 2]\n"
     ]
    }
   ],
   "source": [
    "#46 'Python'が含まれている要素を削除する\n",
    "import re\n",
    "l = ['Python1', 'Java1', 1, 'Python2','Java2',2]\n",
    "for data in l:\n",
    "    if isinstance(data,int):\n",
    "        continue\n",
    "    elif re.search('.*Python.*',data):\n",
    "    #elif re.search('*Python*',data): NG\n",
    "        l.pop(l.index(data))\n",
    "print(l)\n"
   ]
  },
  {
   "cell_type": "code",
   "execution_count": 41,
   "metadata": {},
   "outputs": [
    {
     "name": "stdout",
     "output_type": "stream",
     "text": [
      "0\n",
      "1\n",
      "2\n",
      "1\n",
      "4\n",
      "5\n",
      "6\n",
      "7\n",
      "8\n",
      "[1, 3, 2, 3, 4, 6, 5, 8, 7]\n"
     ]
    }
   ],
   "source": [
    "#47 インデックスと値がともに3の倍数の要素を削除する\n",
    "\n",
    "l=[1, 3, 2, 3, 4, 6, 5, 8, 7]\n",
    "for d in l:\n",
    "    print(l.index(d))\n",
    "    if l.index(d) == d and l.index(d)%3 == 0:\n",
    "    #if l.index(data) == data and data%3 == 0:\n",
    "        l.pop(l.index(d))\n",
    "print(l)\n",
    "\n",
    "\"\"\"\n",
    "出力\n",
    "0\n",
    "1\n",
    "2\n",
    "1\n",
    "4\n",
    "5\n",
    "6\n",
    "7\n",
    "8\n",
    "[1, 3, 2, 3, 4, 6, 5, 8, 7]\n",
    "\"\"\""
   ]
  },
  {
   "cell_type": "code",
   "execution_count": 50,
   "metadata": {},
   "outputs": [
    {
     "name": "stdout",
     "output_type": "stream",
     "text": [
      "[1, 3, 2, 4, 6, 5, 8, 7]\n"
     ]
    }
   ],
   "source": [
    "#47 インデックスと値がともに3の倍数の要素を削除する\n",
    "\n",
    "l=[1, 3, 2, 3, 4, 6, 5, 8, 7]\n",
    "pop_index = []\n",
    "for i in range(len(l)):\n",
    "    if l[i] == i and i%3 == 0:\n",
    "        pop_index.append(i) #削除するべき番号をピックアップ\n",
    "        \n",
    "pop_index.sort(reverse=True)#後ろの要素から取り出していく\n",
    "\n",
    "for j in pop_index:\n",
    "    l.pop(j)\n",
    "print(l)"
   ]
  },
  {
   "cell_type": "code",
   "execution_count": 53,
   "metadata": {},
   "outputs": [
    {
     "name": "stdout",
     "output_type": "stream",
     "text": [
      "[1, 3, 2, 4, 6, 5, 8, 7]\n"
     ]
    }
   ],
   "source": [
    "#47 別解　インデックスと値がともに3の倍数の要素を削除する\n",
    "\n",
    "l=[1, 3, 2, 3, 4, 6, 5, 8, 7]\n",
    "pop_index = []\n",
    "for i in range(-1,-len(l),-1):\n",
    "    if l[i] == (len(l)+i) and (len(l)+i)%3 == 0:\n",
    "        l.pop(i)\n",
    "print(l)\n",
    "\n",
    "#短いけど、可読性が低いから微妙かな～"
   ]
  },
  {
   "cell_type": "code",
   "execution_count": 55,
   "metadata": {},
   "outputs": [
    {
     "name": "stdout",
     "output_type": "stream",
     "text": [
      "['080-1203-4455', '080-3917-5918']\n"
     ]
    }
   ],
   "source": [
    "#48 電話番号が080で始まる要素だけを取り出す\n",
    "import re\n",
    "telephone_numbers = ['080-1203-4455','090-0372-9682','090-3080-4982','080-3917-5918']\n",
    "selected_phone_numbers = []\n",
    "for data in telephone_numbers:   \n",
    "    if re.search('^080.*',data):\n",
    "        selected_phone_numbers.append(data)\n",
    "print(selected_phone_numbers)"
   ]
  },
  {
   "cell_type": "code",
   "execution_count": 56,
   "metadata": {},
   "outputs": [
    {
     "name": "stdout",
     "output_type": "stream",
     "text": [
      "['080-1203-4455', '090-9372-9682', '070-3917-5918']\n"
     ]
    }
   ],
   "source": [
    "#49 　携帯番号だけを取り出す\n",
    "import re\n",
    "phone_numbers = ['080-1203-4455','090-9372-9682','03-9471-5929','070-3917-5918','04-8572-8910']\n",
    "selected_phone_numbers = []\n",
    "for data in phone_numbers:\n",
    "    if re.search('^0[789]0.*',data):\n",
    "        selected_phone_numbers.append(data)\n",
    "print(selected_phone_numbers)"
   ]
  },
  {
   "cell_type": "code",
   "execution_count": 73,
   "metadata": {},
   "outputs": [
    {
     "name": "stdout",
     "output_type": "stream",
     "text": [
      "[[4, 6, 9, 2], [3, 5, 7], [1, 9, 7]]\n",
      "[5.25, 5.0, 5.666666666666667]\n",
      "[1, 9, 7]\n"
     ]
    },
    {
     "data": {
      "text/plain": [
       "'\\nfor l_data in l:\\n    sum(l_data)\\nmax_ave = l.index(max(l))\\nprint(max_ave)\\n'"
      ]
     },
     "execution_count": 73,
     "metadata": {},
     "output_type": "execute_result"
    }
   ],
   "source": [
    "#50 以下の3つのリストで最も平均値の高いリストを出力する\n",
    "l1 = [4,6,9,2]\n",
    "l2 = [3,5,7]\n",
    "l3 = [1,9,7]\n",
    "\n",
    "l = [l1, l2, l3]\n",
    "print(l)\n",
    "l_ave = [sum(l[i])/len(l[i]) for i in range(len(l))] \n",
    "#int(　sum(l[i])　/　len(l[i])　)するとすべて５になり最初の要素が選ばれてしまう \n",
    "print(l_ave)\n",
    "print(l[l_ave.index(max(l_ave))])\n",
    "\n",
    "\"\"\"\n",
    "for l_data in l:\n",
    "    sum(l_data)\n",
    "max_ave = l.index(max(l))\n",
    "print(max_ave)\n",
    "\"\"\""
   ]
  },
  {
   "cell_type": "markdown",
   "metadata": {},
   "source": [
    "#50 出力\n",
    "[[4, 6, 9, 2], [3, 5, 7], [1, 9, 7]]\n",
    "[5.25, 5.0, 5.666666666666667]\n",
    "[1, 9, 7]"
   ]
  },
  {
   "cell_type": "code",
   "execution_count": 77,
   "metadata": {},
   "outputs": [
    {
     "ename": "AttributeError",
     "evalue": "'list' object has no attribute 'contain'",
     "output_type": "error",
     "traceback": [
      "\u001b[1;31m---------------------------------------------------------------------------\u001b[0m",
      "\u001b[1;31mAttributeError\u001b[0m                            Traceback (most recent call last)",
      "\u001b[1;32m<ipython-input-77-6088e3e55a2e>\u001b[0m in \u001b[0;36m<module>\u001b[1;34m\u001b[0m\n\u001b[0;32m      1\u001b[0m \u001b[1;32mimport\u001b[0m \u001b[0mre\u001b[0m\u001b[1;33m\u001b[0m\u001b[1;33m\u001b[0m\u001b[0m\n\u001b[0;32m      2\u001b[0m \u001b[0ml1\u001b[0m \u001b[1;33m=\u001b[0m \u001b[1;33m[\u001b[0m\u001b[1;34m'apple2'\u001b[0m\u001b[1;33m,\u001b[0m\u001b[1;34m'banana'\u001b[0m\u001b[1;33m,\u001b[0m\u001b[1;34m'applebook'\u001b[0m\u001b[1;33m,\u001b[0m\u001b[1;34m'orange'\u001b[0m\u001b[1;33m]\u001b[0m\u001b[1;33m\u001b[0m\u001b[1;33m\u001b[0m\u001b[0m\n\u001b[1;32m----> 3\u001b[1;33m \u001b[1;32mif\u001b[0m \u001b[0ml1\u001b[0m\u001b[1;33m.\u001b[0m\u001b[0mcontain\u001b[0m\u001b[1;33m(\u001b[0m\u001b[1;34m'.*apple.*'\u001b[0m\u001b[1;33m)\u001b[0m\u001b[1;33m:\u001b[0m\u001b[1;33m\u001b[0m\u001b[1;33m\u001b[0m\u001b[0m\n\u001b[0m\u001b[0;32m      4\u001b[0m     \u001b[0mprint\u001b[0m\u001b[1;33m(\u001b[0m\u001b[1;34m'yes'\u001b[0m\u001b[1;33m)\u001b[0m\u001b[1;33m\u001b[0m\u001b[1;33m\u001b[0m\u001b[0m\n",
      "\u001b[1;31mAttributeError\u001b[0m: 'list' object has no attribute 'contain'"
     ]
    }
   ],
   "source": [
    "#50 確認のためのプログラム\n",
    "import re\n",
    "l1 = ['apple2','banana','applebook','orange']\n",
    "if l1.contain('.*apple.*'):\n",
    "    print('yes')"
   ]
  },
  {
   "cell_type": "code",
   "execution_count": 80,
   "metadata": {},
   "outputs": [
    {
     "name": "stdout",
     "output_type": "stream",
     "text": [
      "(1, 2, 3) (1, 2, 3)\n"
     ]
    }
   ],
   "source": [
    "#51 タプル(1,2,3)の作成,リストからの作成も\n",
    "t = (1,2,3)\n",
    "l = [1,2,3]\n",
    "t_l = tuple(l)\n",
    "print(t,t_l)"
   ]
  },
  {
   "cell_type": "code",
   "execution_count": 81,
   "metadata": {},
   "outputs": [
    {
     "name": "stdout",
     "output_type": "stream",
     "text": [
      "(1,)\n"
     ]
    }
   ],
   "source": [
    "#52 数字の1だけが格納されたタプルを作成\n",
    "t = 1,\n",
    "print(t)"
   ]
  },
  {
   "attachments": {
    "image.png": {
     "image/png": "[encoded data removed]"
    }
   },
   "cell_type": "markdown",
   "metadata": {},
   "source": [
    "#52 確認のためのプログラム\n",
    "t = (1)\n",
    "print(t)\n",
    "type(t)\n",
    "![image.png](attachment:image.png)\n",
    "カンマがないとint型にアンパックされてしまう"
   ]
  },
  {
   "cell_type": "code",
   "execution_count": 117,
   "metadata": {},
   "outputs": [
    {
     "name": "stdout",
     "output_type": "stream",
     "text": [
      "[[1, 4, 7, 10], [2, 5, 8, 11], [3, 6, 9]]\n"
     ]
    }
   ],
   "source": [
    "#53 リストを3分割してタプルに格納するプログラム（微妙）\n",
    "l = [1,2,3,4,5,6,7,8,9,10,11]\n",
    "n_l = [[],[],[]]\n",
    "for i in range(len(l)):\n",
    "     n_l[i%3].append(l[i])\n",
    "print(n_l)"
   ]
  },
  {
   "cell_type": "code",
   "execution_count": 129,
   "metadata": {},
   "outputs": [
    {
     "name": "stdout",
     "output_type": "stream",
     "text": [
      "[(1, 2, 3), (4, 5, 6), (7, 8, 9)]\n"
     ]
    }
   ],
   "source": [
    "#53 リストを3分割してタプルに格納するプログラム（微妙2）\n",
    "l = [1,2,3,4,5,6,7,8,9]\n",
    "r = len(l)//3\n",
    "n_l = [l[ 0 : r ],l[ r:2*r],l[2*r:]]\n",
    "n_l = [tuple(x) for x in n_l]\n",
    "print(n_l)"
   ]
  },
  {
   "cell_type": "code",
   "execution_count": null,
   "metadata": {},
   "outputs": [],
   "source": [
    "#53 answer\n",
    "l = [1, 2, 3, 4, 5, 6, 7, 8, 9]\n",
    "new_l = [tuple(l[i:i+3]) for i in range(0, 9, 3)]\n",
    "print(f'3分割したタプル : {new_l}')"
   ]
  },
  {
   "cell_type": "code",
   "execution_count": 131,
   "metadata": {},
   "outputs": [
    {
     "name": "stdout",
     "output_type": "stream",
     "text": [
      "1 2 3\n",
      "4 5 6\n",
      "7 8 9\n"
     ]
    }
   ],
   "source": [
    "#54 53のタプルをアンパックして出力\n",
    "for n in n_l:\n",
    "    n = [ str(x) for x in list(n)]\n",
    "    #print(n)\n",
    "    print(\" \".join(n))"
   ]
  },
  {
   "cell_type": "markdown",
   "metadata": {},
   "source": [
    "#55 ソートする　いまいち\n",
    "t = (1, '2', 3, '4', 5, '6', 7, '8', 9)\n",
    "print(tuple(t,reverse=True))\n",
    "#print(sorted(t,reverse=True))\n",
    "\n",
    "↓\n",
    "逆に取り出して、そこからタプルを作る操作"
   ]
  },
  {
   "cell_type": "code",
   "execution_count": 142,
   "metadata": {},
   "outputs": [
    {
     "name": "stdout",
     "output_type": "stream",
     "text": [
      "反転させたタプル : (9, '8', 7, '6', 5, '4', 3, '2', 1)\n"
     ]
    }
   ],
   "source": [
    "#55 answer str,int型が混合しているタプルを逆にソートする\n",
    "t = 1, '2', 3, '4', 5, '6', 7, '8', 9\n",
    "reversed_t = tuple(reversed(t))\n",
    "print(f'反転させたタプル : {reversed_t}')"
   ]
  },
  {
   "cell_type": "code",
   "execution_count": 177,
   "metadata": {},
   "outputs": [
    {
     "name": "stdout",
     "output_type": "stream",
     "text": [
      "(1, '2', 3, '4', 5, '6', 7, '8', 9)\n",
      "(9, '8', 7, '6', 5, '4', 3, '2', 1)\n"
     ]
    }
   ],
   "source": [
    "#55 \n",
    "#import re\n",
    "import random\n",
    "t = 1, '2', 3, '4', 5, '6', 7, '8', 9\n",
    "random.shuffle(list(t))\n",
    "print(t)\n",
    "t = list(t)\n",
    "print(tuple(sorted(t, key=lambda x:int(x),reverse=True)))\n"
   ]
  },
  {
   "cell_type": "code",
   "execution_count": 158,
   "metadata": {},
   "outputs": [
    {
     "name": "stdout",
     "output_type": "stream",
     "text": [
      "(1, 2, 3, 4, 5)\n"
     ]
    }
   ],
   "source": [
    "#56  タプルを整数型に変換\n",
    "t = (1, '2', 3, '4', 5)\n",
    "t = tuple([ int(x) for x in t])\n",
    "\n",
    "# ( int(x) for x in t )だとジェネレータになってしまう\n",
    "print(t)"
   ]
  },
  {
   "cell_type": "code",
   "execution_count": 155,
   "metadata": {},
   "outputs": [
    {
     "name": "stdout",
     "output_type": "stream",
     "text": [
      "2\n"
     ]
    }
   ],
   "source": [
    "#57　含まれているタプルの数を数える\n",
    "t = (1, [2, 3], '4', (5, 6, 7), '8', (9, 10))\n",
    "count = 0\n",
    "for e in t:\n",
    "    if isinstance(e,tuple):\n",
    "        count += 1\n",
    "print(count)"
   ]
  },
  {
   "cell_type": "code",
   "execution_count": 162,
   "metadata": {},
   "outputs": [
    {
     "name": "stdout",
     "output_type": "stream",
     "text": [
      "(1, [2, 3], '4', (5, 6, 7), None, (9, 10))\n"
     ]
    }
   ],
   "source": [
    "#58\n",
    "t = (1, [2, 3], '4', (5, 6, 7), None, (9, 10))\n",
    "for e in t:\n",
    "    if isinstance(e,int) or e is None:\n",
    "        e = e,\n",
    "        continue\n",
    "    e = tuple(e)\n",
    "print(t)"
   ]
  },
  {
   "cell_type": "markdown",
   "metadata": {},
   "source": [
    "問題 59. 以下 2 つ の 集合 が 出力 さ れる よう に、 プログラム を 作成 し て ください。\n",
    " 集合 1 : {1, 2, 3} 集合 2: set()\n"
   ]
  },
  {
   "cell_type": "code",
   "execution_count": 180,
   "metadata": {},
   "outputs": [
    {
     "name": "stdout",
     "output_type": "stream",
     "text": [
      "{0, 1, 2}\n",
      "set()\n"
     ]
    }
   ],
   "source": [
    "#59\n",
    "s = set(int(i) for i in range(3))\n",
    "print(s)\n",
    "s2 = set()\n",
    "print(s2)"
   ]
  },
  {
   "cell_type": "code",
   "execution_count": 183,
   "metadata": {},
   "outputs": [
    {
     "name": "stdout",
     "output_type": "stream",
     "text": [
      "{1, 2, 3, 4, 5, 6, 7}\n"
     ]
    }
   ],
   "source": [
    "#60 重複する要素を除いた集合\n",
    "l1 = [1, 2, 3, 4, 5]\n",
    "l2 = [7, 6, 5, 4]\n",
    "l3 = set(l1+l2)\n",
    "print(l3)"
   ]
  },
  {
   "cell_type": "code",
   "execution_count": 187,
   "metadata": {},
   "outputs": [
    {
     "name": "stdout",
     "output_type": "stream",
     "text": [
      "{1, 2, 3, 4, 5, 6, 7}\n"
     ]
    }
   ],
   "source": [
    "l1 = set([1, 2, 3, 4, 5])\n",
    "l2 = set([7, 6, 5, 4])\n",
    "l3 = l1 | l2\n",
    "print(l3)"
   ]
  },
  {
   "cell_type": "markdown",
   "metadata": {},
   "source": [
    "集合演算\n",
    "和 a | b\n",
    "差 a - b\n",
    "積 a & b\n",
    "対称差 a^b"
   ]
  },
  {
   "cell_type": "code",
   "execution_count": 188,
   "metadata": {},
   "outputs": [
    {
     "name": "stdout",
     "output_type": "stream",
     "text": [
      "{1, 2, 3}\n"
     ]
    }
   ],
   "source": [
    "#62  l1のみに含まれている要素\n",
    "l1 = [1, 2, 3, 4, 5]\n",
    "l2 = [7, 6, 5, 4]\n",
    "print(set(l1) - set(l2))\n"
   ]
  },
  {
   "cell_type": "code",
   "execution_count": 189,
   "metadata": {},
   "outputs": [
    {
     "name": "stdout",
     "output_type": "stream",
     "text": [
      "inclueded\n"
     ]
    }
   ],
   "source": [
    "#63 片方のリストを含んでいるか判定\n",
    "l1 = set([1, 2, 3, 4, 5] )\n",
    "l2 = set([3, 4, 5])\n",
    "if l1 - l2 or l2 - l1:\n",
    "    print('inclueded')"
   ]
  },
  {
   "cell_type": "code",
   "execution_count": 198,
   "metadata": {},
   "outputs": [
    {
     "name": "stdout",
     "output_type": "stream",
     "text": [
      "{'A': 111, 'B': 222, 'C': 333}\n",
      "{}\n",
      "{'A': 111, 'B': 222, 'C': 333, 'D': 444}\n"
     ]
    }
   ],
   "source": [
    "#64 2つの辞書を作成する\n",
    "#1つめ{'A': 111, 'B': 222, 'C': 333}　2つ目{}\n",
    "d1 = dict(zip(['A','B','C'],[111,222,333]))\n",
    "print(d1)\n",
    "d2 = dict()\n",
    "print(d2)\n",
    "\n",
    "d3 = {'D':444}\n",
    "d4 = dict(list(d1.items()) + list(d3.items()))\n",
    "print(d4)"
   ]
  },
  {
   "cell_type": "code",
   "execution_count": 200,
   "metadata": {},
   "outputs": [
    {
     "name": "stdout",
     "output_type": "stream",
     "text": [
      "{'A': 111, 'B': 222, 'C': 333, 'D': 444}\n"
     ]
    }
   ],
   "source": [
    "#65 メソッドを使って辞書に新しいキーバリューを追加する方法\n",
    "d = {'A': 111, 'B': 222, 'C': 333}\n",
    "#d['D'] = 444\n",
    "d.update({'D': 444})\n",
    "print(d)"
   ]
  },
  {
   "cell_type": "code",
   "execution_count": 204,
   "metadata": {},
   "outputs": [
    {
     "name": "stdout",
     "output_type": "stream",
     "text": [
      "[{'A': 111, 'B': 222, 'C': 333}, {'D': 444, 'E': 555}, {'F': 666}]\n",
      "{'A': 111, 'B': 222, 'C': 333}\n",
      "{'D': 444, 'E': 555}\n",
      "{'F': 666}\n",
      "{'A': 111, 'B': 222, 'C': 333, 'D': 444, 'E': 555, 'F': 666}\n"
     ]
    }
   ],
   "source": [
    "#66 3つの辞書をループで連結する\n",
    "d1 = {'A': 111, 'B': 222, 'C': 333} \n",
    "d2 = {'D': 444, 'E': 555} \n",
    "d3 = {'F': 666}\n",
    "l = [d1,d2,d3]\n",
    "d4 = list()\n",
    "print(l)\n",
    "for d in l:\n",
    "    print(d)\n",
    "    for data in d.items():\n",
    "        d4.append(data)\n",
    "else:\n",
    "    d4 = dict(d4)\n",
    "print(d4)"
   ]
  },
  {
   "cell_type": "code",
   "execution_count": 205,
   "metadata": {},
   "outputs": [
    {
     "name": "stdout",
     "output_type": "stream",
     "text": [
      "連結した辞書 : {'A': 111, 'B': 222, 'C': 333, 'D': 444, 'E': 555, 'F': 666}\n"
     ]
    }
   ],
   "source": [
    "#66 answer\n",
    "d1 = {'A': 111, 'B': 222, 'C': 333}\n",
    "d2 = {'D': 444, 'E': 555}\n",
    "d3 = {'F': 666}\n",
    "\n",
    "new_d = {}\n",
    "\n",
    "for d in [d1, d2, d3]:\n",
    "    new_d.update(d)\n",
    "\n",
    "print(f'連結した辞書 : {new_d}')"
   ]
  },
  {
   "cell_type": "code",
   "execution_count": 206,
   "metadata": {},
   "outputs": [
    {
     "name": "stdout",
     "output_type": "stream",
     "text": [
      "{'apple': 1001, 'microsoft': 1002, 'asus': 2001}\n"
     ]
    }
   ],
   "source": [
    "pc = {'apple':1001,'microsoft':1002}\n",
    "mobile = {'asus':2001}\n",
    "all_items = {}\n",
    "for i in [pc,mobile]:\n",
    "    all_items.update(i)\n",
    "print(all_items)"
   ]
  },
  {
   "cell_type": "code",
   "execution_count": 208,
   "metadata": {},
   "outputs": [
    {
     "name": "stdout",
     "output_type": "stream",
     "text": [
      "{'A': 111, 'B': 222, 'C': 333, 'D': 444, 'E': 555, 'F': 666}\n"
     ]
    }
   ],
   "source": [
    "#67 answer 3つの辞書を連結\n",
    "d1 = {'A': 111, 'B': 222, 'C': 333}\n",
    "d2 = {'D': 444, 'E': 555}\n",
    "d3 = {'F': 666}\n",
    "\n",
    "new_d = {**d1, **d2, **d3}\n",
    "print(new_d)"
   ]
  },
  {
   "cell_type": "code",
   "execution_count": 210,
   "metadata": {},
   "outputs": [
    {
     "name": "stdout",
     "output_type": "stream",
     "text": [
      "included\n"
     ]
    }
   ],
   "source": [
    "#68　keyにAが含まれているか判定するプログラム\n",
    "d = {'A': 111, 'B': 222, 'C': 333}\n",
    "if 'B' in d:\n",
    "    print('included')"
   ]
  },
  {
   "cell_type": "code",
   "execution_count": 8,
   "metadata": {},
   "outputs": [
    {
     "name": "stdout",
     "output_type": "stream",
     "text": [
      "None\n",
      "None\n",
      "None\n"
     ]
    }
   ],
   "source": [
    "#69 valueに444が含まれているか判定するプログラム\n",
    "d = {'A': 111, 'B': 222, 'C': 333}\n",
    "\n",
    "if 444 in d.values():\n",
    "    print(data)\n",
    "else:\n",
    "    print(str(None))"
   ]
  },
  {
   "cell_type": "code",
   "execution_count": 11,
   "metadata": {},
   "outputs": [
    {
     "name": "stdout",
     "output_type": "stream",
     "text": [
      "{'A': 111, 'B': 222, 'C': 333}\n"
     ]
    }
   ],
   "source": [
    "#70 to create dict from the following the 2 lists\n",
    "keys = ['A', 'B', 'C'] \n",
    "values = [111, 222 ,333]\n",
    "d = dict(zip(keys,values))\n",
    "print(d)"
   ]
  },
  {
   "cell_type": "code",
   "execution_count": 10,
   "metadata": {},
   "outputs": [
    {
     "name": "stdout",
     "output_type": "stream",
     "text": [
      "{'B': 222, 'C': 333}\n"
     ]
    }
   ],
   "source": [
    "#71 辞書でvalue>150に絞るプログラム\n",
    "d = {'A': 111, 'B': 222, 'C': 333}\n",
    "d_over150 = {}\n",
    "for key in d:\n",
    "    if d[key] > 150:\n",
    "        d_over150[key] = d[key]\n",
    "        #del d[key] を使う方法だと辞書の長さが変わってエラー\n",
    "print(d_over150)"
   ]
  },
  {
   "cell_type": "code",
   "execution_count": null,
   "metadata": {},
   "outputs": [],
   "source": [
    "#72 リストに含まれている要素が辞書のKeyに含まれているかを判定するプログラム\n",
    "d = {'A': 111, 'B': 222, 'C': 333}\n",
    "for data in ['B','C','D','A']:\n",
    "    if data in d:\n",
    "        print(data)\n",
    "    else:\n",
    "        print(str(None))"
   ]
  },
  {
   "cell_type": "code",
   "execution_count": 14,
   "metadata": {
    "scrolled": true
   },
   "outputs": [
    {
     "name": "stdout",
     "output_type": "stream",
     "text": [
      "{'A': 111, 'B': 222, 'C': 333, 'D': 444}\n"
     ]
    }
   ],
   "source": [
    "#73 辞書をkeyでソートする\n",
    "d = {'B': 222, 'A': 111, 'D': 444, 'C': 333}\n",
    "print(dict(sorted(d.items())))"
   ]
  },
  {
   "cell_type": "code",
   "execution_count": 23,
   "metadata": {},
   "outputs": [
    {
     "name": "stdout",
     "output_type": "stream",
     "text": [
      "[(444, 'C'), (333, 'D'), (222, 'B'), (111, 'A')]\n",
      "{444: 'C', 333: 'D', 222: 'B', 111: 'A'}\n"
     ]
    }
   ],
   "source": [
    "#74 辞書をvalueでソートする\n",
    "d = {'B': 222, 'A': 111, 'D': 333, 'C': 444}\n",
    "temp = []\n",
    "for key,value in d.items():\n",
    "    temp.append((value,key))\n",
    "temp = sorted(temp,reverse=True)\n",
    "print(temp)\n",
    "d_sorted = dict(temp)\n",
    "print(d_sorted)"
   ]
  },
  {
   "cell_type": "code",
   "execution_count": 43,
   "metadata": {},
   "outputs": [
    {
     "name": "stdout",
     "output_type": "stream",
     "text": [
      "Chinese\n"
     ]
    }
   ],
   "source": [
    "#75 Chineseの部分を出力する\n",
    "l = [{'id': 10000, 'feature': {'name': 'Michael', 'height': 180.3, 'weight': 63.7, 'skills': {'IT': ['Python', 'Golang', 'SQL'], 'Others': ['Chinese', 'Math']}}},\n",
    "     {'id': 10001, 'feature': {'name': 'Nancy', 'height': 156.7, 'weight': 39.7, 'skills': {'IT': ['Java', 'SQL', 'JavaScript'], 'Others': ['Accounting']}}}]\n",
    "\n",
    "print(l[0]['feature']['skills']['Others'][0])\n",
    "\n",
    "#プリントのところから辞書を作る"
   ]
  },
  {
   "cell_type": "code",
   "execution_count": 47,
   "metadata": {},
   "outputs": [
    {
     "name": "stdout",
     "output_type": "stream",
     "text": [
      "{'SQL'}\n"
     ]
    }
   ],
   "source": [
    "#76 75でMichael,Nancyに共通するスキルSQLを出力する\n",
    "s = []\n",
    "for i in l:\n",
    "    s.append(set(i['feature']['skills']['IT']))\n",
    "print(s[0] & s[1])"
   ]
  },
  {
   "cell_type": "code",
   "execution_count": 1,
   "metadata": {},
   "outputs": [
    {
     "name": "stdout",
     "output_type": "stream",
     "text": [
      "444\n"
     ]
    }
   ],
   "source": [
    "#77 valueの最大値を出力\n",
    "max_v = None\n",
    "d = {'B': 222, 'A': 111, 'D': 444, 'C': 333}\n",
    "for e in d:\n",
    "    if max_v is None or d[e] > max_v:\n",
    "        max_v = d[e]\n",
    "print(max_v)"
   ]
  },
  {
   "cell_type": "code",
   "execution_count": 8,
   "metadata": {},
   "outputs": [
    {
     "name": "stdout",
     "output_type": "stream",
     "text": [
      "A\n"
     ]
    }
   ],
   "source": [
    "#78 最小のvalueのKeyを出力する\n",
    "d = {'B': 222, 'A': 111, 'D': 444, 'C': 333}\n",
    "min_v = None\n",
    "d_n = []\n",
    "for key,value in d.items():\n",
    "    if min_v is None or value < min_v:\n",
    "        min_v = d[key]\n",
    "    d_n.append((value,key))\n",
    "else:\n",
    "    d_n = dict(d_n)\n",
    "    print(d_n[min_v])"
   ]
  },
  {
   "cell_type": "code",
   "execution_count": null,
   "metadata": {},
   "outputs": [],
   "source": [
    "#78 answer\n",
    "d = {'B': 222, 'A': 111, 'D': 444, 'C': 333}\n",
    "key_to_get_min_value = min(d.keys(), key=lambda k: d[k])\n",
    "print(f'最小のValueを持つKey : {key_to_get_min_value}')"
   ]
  },
  {
   "cell_type": "code",
   "execution_count": 9,
   "metadata": {},
   "outputs": [
    {
     "name": "stdout",
     "output_type": "stream",
     "text": [
      "{'B': 222, 'A': 111, 'D': 444, 'C': 333}\n",
      "None\n"
     ]
    }
   ],
   "source": [
    "#79 からの辞書を判定し、空の辞書でなければ辞書を出力する\n",
    "d = {'B': 222, 'A': 111, 'D': 444, 'C': 333}\n",
    "d1 = {}\n",
    "def f(x):\n",
    "    if x:\n",
    "        print(x)\n",
    "    else:\n",
    "        print('None')\n",
    "for e in [d,d1]:\n",
    "    f(e)"
   ]
  },
  {
   "cell_type": "code",
   "execution_count": null,
   "metadata": {},
   "outputs": [],
   "source": [
    "#79 answer\n",
    "target = {'A': 111}\n",
    "\n",
    "if target == {}:\n",
    "    print('空の辞書です')\n",
    "else:\n",
    "    print(target)\n"
   ]
  },
  {
   "cell_type": "code",
   "execution_count": 17,
   "metadata": {},
   "outputs": [
    {
     "name": "stdout",
     "output_type": "stream",
     "text": [
      "{'B': 222, 'D': 444}\n"
     ]
    }
   ],
   "source": [
    "#80 辞書でvalueが奇数の要素だけ削除するプログラムを作成する\n",
    "d = {key : d[key] for key in d if d[key]%2 == 0}\n",
    "print(d)"
   ]
  },
  {
   "cell_type": "code",
   "execution_count": null,
   "metadata": {},
   "outputs": [],
   "source": [
    "#80 answer\n",
    "d = {'B': 222, 'A': 111, 'D': 444, 'C': 333}\n",
    "new_d = d.copy()\n",
    "for k, v in d.items():\n",
    "    if v % 2 != 0:\n",
    "        del new_d[k]\n",
    "\n",
    "print(f'奇数を削除した辞書 : {new_d}')"
   ]
  },
  {
   "cell_type": "code",
   "execution_count": 32,
   "metadata": {},
   "outputs": [
    {
     "name": "stdout",
     "output_type": "stream",
     "text": [
      "[[2, 10], [-3, 20], [1, -30]]\n",
      "[[1, -30], [2, 10], [-3, 20]]\n"
     ]
    }
   ],
   "source": [
    "l_2d = [[2, 10], [1, -30], [-3, 20]]\n",
    "print(sorted(l_2d, key=lambda x: max([abs(i) for i in x])))\n",
    "print(sorted(l_2d, key=max))"
   ]
  },
  {
   "cell_type": "code",
   "execution_count": 35,
   "metadata": {},
   "outputs": [
    {
     "name": "stdout",
     "output_type": "stream",
     "text": [
      "3\n"
     ]
    }
   ],
   "source": [
    "#81 FALSEをカウントするプログラムを作成\n",
    "l =[False,True,False,False,True]\n",
    "count = 0\n",
    "for data in l:\n",
    "    if not data:\n",
    "        count += 1\n",
    "print(count)"
   ]
  },
  {
   "cell_type": "code",
   "execution_count": 38,
   "metadata": {},
   "outputs": [
    {
     "name": "stdout",
     "output_type": "stream",
     "text": [
      "Falseの数 : 3\n"
     ]
    }
   ],
   "source": [
    "#81 answer\n",
    "l = [False, True, False, False, True]\n",
    "c = len(l) - sum(l)\n",
    "print(f'Falseの数 : {c}')"
   ]
  },
  {
   "cell_type": "code",
   "execution_count": 37,
   "metadata": {},
   "outputs": [
    {
     "name": "stdout",
     "output_type": "stream",
     "text": [
      "[0, 1, 0, 0, 1]\n"
     ]
    }
   ],
   "source": [
    "#82 True->1 False->とするプログラム\n",
    "l =[False,True,False,False,True]\n",
    "count = 0\n",
    "for i in range(len(l)):\n",
    "    if l[i]:\n",
    "        l[i] = 1\n",
    "    else:\n",
    "        l[i] = 0\n",
    "print(l)"
   ]
  },
  {
   "cell_type": "code",
   "execution_count": 39,
   "metadata": {},
   "outputs": [
    {
     "name": "stdout",
     "output_type": "stream",
     "text": [
      "作成したリスト : [0, 1, 0, 0, 1]\n"
     ]
    }
   ],
   "source": [
    "#82 answer\n",
    "l = [False, True, False, False, True]\n",
    "new_l = [int(b) for b in l]\n",
    "print(f'作成したリスト : {new_l}')"
   ]
  },
  {
   "cell_type": "code",
   "execution_count": 48,
   "metadata": {},
   "outputs": [
    {
     "name": "stdout",
     "output_type": "stream",
     "text": [
      "4\n",
      "4\n"
     ]
    }
   ],
   "source": [
    "#83 3,7でなかったらその数字を出力するプログラム\n",
    "a = 4\n",
    "if a !=3 and a != 7:\n",
    "    print(a)\n",
    "if not(a == 3 and a == 7):\n",
    "    print(a)"
   ]
  },
  {
   "cell_type": "code",
   "execution_count": 46,
   "metadata": {},
   "outputs": [
    {
     "name": "stdout",
     "output_type": "stream",
     "text": [
      "4\n"
     ]
    }
   ],
   "source": [
    "#84 83をbool判定でのプログラムにする\n",
    "a = 4\n",
    "if a not in [3,7]:\n",
    "    print('3,7ではありません')"
   ]
  },
  {
   "cell_type": "code",
   "execution_count": 54,
   "metadata": {},
   "outputs": [
    {
     "name": "stdout",
     "output_type": "stream",
     "text": [
      "3\n"
     ]
    }
   ],
   "source": [
    "#84 Trueに相当する要素をカウントする\n",
    "l = [1,0,[],(2,3),'AA','',False,''*3]\n",
    "print(sum(1 for i in l if i))\n",
    "# if i  --> iが存在すれば"
   ]
  },
  {
   "cell_type": "code",
   "execution_count": 56,
   "metadata": {},
   "outputs": [
    {
     "name": "stdout",
     "output_type": "stream",
     "text": [
      "1\n",
      "100\n"
     ]
    }
   ],
   "source": [
    "#85 True->1 , False->100 を出力するプログラム\n",
    "x = [True,False]\n",
    "for e in x:\n",
    "    if e:\n",
    "        print('1')\n",
    "    else:\n",
    "        print('100')"
   ]
  },
  {
   "cell_type": "code",
   "execution_count": 58,
   "metadata": {},
   "outputs": [
    {
     "name": "stdout",
     "output_type": "stream",
     "text": [
      "[1, 2, 10000, 3]\n"
     ]
    }
   ],
   "source": [
    "#86\n",
    "l = [1,2,None,3]\n",
    "for data in l:\n",
    "    if data is None:\n",
    "        l[l.index(data)] = 10000\n",
    "print(l)\n",
    "# コードは後から読むことを考えると、range(len(l))によりインデックスを使ったほうが可読性が高い…"
   ]
  }
 ],
 "metadata": {
  "kernelspec": {
   "display_name": "Python 3",
   "language": "python",
   "name": "python3"
  },
  "language_info": {
   "codemirror_mode": {
    "name": "ipython",
    "version": 3
   },
   "file_extension": ".py",
   "mimetype": "text/x-python",
   "name": "python",
   "nbconvert_exporter": "python",
   "pygments_lexer": "ipython3",
   "version": "3.7.9"
  }
 },
 "nbformat": 4,
 "nbformat_minor": 4
}
