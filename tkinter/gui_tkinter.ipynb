{
 "cells": [
  {
   "cell_type": "code",
   "execution_count": 3,
   "metadata": {},
   "outputs": [],
   "source": [
    "import tkinter as tk\n",
    "root = tk.Tk()\n",
    "root.mainloop()"
   ]
  },
  {
   "cell_type": "code",
   "execution_count": 29,
   "metadata": {},
   "outputs": [
    {
     "name": "stdout",
     "output_type": "stream",
     "text": [
      "<class 'tkinter.Tk'>\n",
      "<class 'tkinter.Frame'>\n"
     ]
    }
   ],
   "source": [
    "#\n",
    "import tkinter as tk\n",
    "root = tk.Tk()\n",
    "print(type(root))\n",
    "frame1 = tk.Frame(root)\n",
    "print(type(frame1))\n",
    "l1 = tk.Label(frame1, text=\"frame1\")\n",
    "l1.pack()\n",
    "buto = tk.Button(frame1, text=\"button\", font=(\"\", 10))\n",
    "buto.pack()\n",
    "frame1.pack()\n",
    "\n",
    "frame2 = tk.Frame(root)\n",
    "l2 = tk.Label(frame2, text=\"frame2\")\n",
    "l2.pack()\n",
    "buto = tk.Button(frame2, text=\"button\", font=(\"\", 10))\n",
    "buto.pack()\n",
    "frame2.pack()\n",
    "root.mainloop()"
   ]
  },
  {
   "cell_type": "markdown",
   "metadata": {},
   "source": [
    "root = tk.Tk()のrootはtkinterパッケージ（ライブラリ）\n",
    "__init__.pyのTkクラス\n",
    "<class 'tkinter.Tk'>\n",
    "frame1は__init__.pyのFrameクラス\n",
    "<class 'tkinter.Frame'>\n",
    "\n",
    "Tkクラス、Frameクラスには\n",
    "LabelやButtonなどのウィジェットをpackすることができる"
   ]
  },
  {
   "cell_type": "code",
   "execution_count": 4,
   "metadata": {},
   "outputs": [
    {
     "name": "stdout",
     "output_type": "stream",
     "text": [
      "8.6\n"
     ]
    }
   ],
   "source": [
    "import tkinter as tk\n",
    "print(tk.TkVersion)"
   ]
  },
  {
   "cell_type": "code",
   "execution_count": 13,
   "metadata": {},
   "outputs": [],
   "source": [
    "#title\n",
    "root = tk.Tk()\n",
    "root.title(\"setteing position\")\n",
    "#root.geometry(\"450x350\")\n",
    "root.geometry(\"450x350+350+250\")    #幅、高さ、x座標、y座標\n",
    "root.mainloop()\n",
    "\n",
    "# mainloop()を入れ忘れて実行をかけた回数だけ\n",
    "# まとめてウィンドウが表示されていた\n"
   ]
  },
  {
   "cell_type": "code",
   "execution_count": 1,
   "metadata": {},
   "outputs": [],
   "source": [
    "import tkinter as tk\n",
    "root = tk.Tk()\n",
    "root.title(\"label + button\")\n",
    "root.geometry(\"350x150\")\n",
    "lb = tk.Label(text=\"Label\")\n",
    "bt = tk.Button(text=\"Button\")\n",
    "lb.pack()\n",
    "bt.pack()\n",
    "root.mainloop()"
   ]
  },
  {
   "cell_type": "code",
   "execution_count": 5,
   "metadata": {},
   "outputs": [
    {
     "name": "stdout",
     "output_type": "stream",
     "text": [
      "koko\n"
     ]
    }
   ],
   "source": [
    "#新しいウィンドウに値が表示されない\n",
    "\n",
    "import tkinter as tk\n",
    "\n",
    "root = tk.Tk()\n",
    "root.title(\"input line\")\n",
    "root.geometry(\"300x200\")\n",
    "lb = tk.Label(text=\"input word\")\n",
    "en = tk.Entry(root)\n",
    "en.pack()\n",
    "\n",
    "def print_txtval():\n",
    "    root2 = tk.Tk()\n",
    "    root2.geometry(\"200x200\") #spell getmetry -> geometry\n",
    "    root2.title(\"get value\")\n",
    "    val_en = en.get()\n",
    "    lb2 = tk.Label(root2,text=val_en) #root2と指定する\n",
    "    print(val_en)\n",
    "    lb2.pack()# error lb2.pack(root2)\n",
    "    root2.mainloop()\n",
    "\n",
    "#    root2.mainloop()\n",
    "\n",
    "bt = tk.Button(text=\"button\",command=print_txtval)\n",
    "\n",
    "bt.pack()\n",
    "#[widget.pack() for widget in (lb,en,bt)]\n",
    "#focus set\n",
    "en.focus_set()\n",
    "\n",
    "\n",
    "root.mainloop()"
   ]
  },
  {
   "cell_type": "code",
   "execution_count": 17,
   "metadata": {},
   "outputs": [],
   "source": [
    "#新しいウィンドウに値が表示される\n",
    "import tkinter as tk\n",
    "\n",
    "root = tk.Tk()\n",
    "root.title(\"input\")\n",
    "root.geometry(\"200x100\")\n",
    "\n",
    "inb = tk.Text(root, width=7,height=1, font=(\"こん\", 10))\n",
    "inb.pack()\n",
    "\n",
    "def pu(event):\n",
    "    ## 　↓ボタンが押された、ここに新しい画面のプログラム\n",
    "\n",
    "    root2 = tk.Tk()\n",
    "    root2.geometry(\"200x100\")\n",
    "    La = tk.Label(root2, text=inb.get(\"1.0\", \"end\"), font=(\"\",10), fg=\"blue\")\n",
    "    La.pack()\n",
    "    root2.mainloop()\n",
    "    ## \n",
    "\n",
    "buto = tk.Button(root, text=\"button\", font=(\"\", 10))\n",
    "buto.bind(\"<Button-1>\", pu)\n",
    "buto.pack()\n",
    "\n",
    "root.mainloop()"
   ]
  },
  {
   "cell_type": "code",
   "execution_count": 18,
   "metadata": {},
   "outputs": [],
   "source": [
    "import tkinter as tk\n",
    "\n",
    "def createNewWindow():\n",
    "    newWindow = tk.Toplevel(app)\n",
    "\n",
    "app = tk.Tk()\n",
    "buttonExample = tk.Button(app,\n",
    "                         text=\"Create new window\",\n",
    "                         command=createNewWindow)\n",
    "buttonExample.pack()\n",
    "app.mainloop()\n",
    "\n"
   ]
  },
  {
   "cell_type": "code",
   "execution_count": null,
   "metadata": {},
   "outputs": [],
   "source": [
    "import tkinter as tk\n",
    "\n",
    "def createNewWindow():\n",
    "    newWindow = tk.Toplevel(app)\n",
    "    labelExample = tk.Label(newWindow, text=\"New Window\")\n",
    "    buttonExample = tk.Button(newWindow, text=\"New Window button\",command=createNewWindow)\n",
    "    labelExample.pack()\n",
    "    buttonExample.pack()\n",
    "\n",
    "app = tk.Tk()\n",
    "app.geometry(\"200x100\")\n",
    "buttonExample = tk.Button(app,\n",
    "                         text=\"Create new window\",\n",
    "                         command=createNewWindow)\n",
    "buttonExample.pack()\n",
    "app.mainloop()\n",
    "\n",
    "#ボタンのイベントは、常にappから作られる"
   ]
  },
  {
   "cell_type": "code",
   "execution_count": 24,
   "metadata": {},
   "outputs": [],
   "source": [
    "import tkinter as tk\n",
    "\n",
    "def createNewWindow():\n",
    "    newWindow = tk.Toplevel()\n",
    "    labelExample = tk.Label(newWindow, text=\"New Window\")\n",
    "    buttonExample = tk.Button(newWindow, text=\"New Window button\",command=createNewWindow)\n",
    "    labelExample.pack()\n",
    "    buttonExample.pack()\n",
    "\n",
    "app = tk.Tk()\n",
    "app.geometry(\"200x100\")\n",
    "buttonExample = tk.Button(app,\n",
    "                         text=\"Create new window\",\n",
    "                         command=createNewWindow)\n",
    "buttonExample.pack()\n",
    "app.mainloop()"
   ]
  },
  {
   "cell_type": "code",
   "execution_count": 26,
   "metadata": {},
   "outputs": [],
   "source": [
    "# sample.py\n",
    "# tkinterのインポート\n",
    "import tkinter as tk\n",
    "import tkinter.ttk as ttk\n",
    "\n",
    "def sub_window():\n",
    "    sub_win = tk.Toplevel()\n",
    "    sub_win.geometry(\"300x100\")\n",
    "    label_sub = tk.Label(sub_win, text=\"サブウィンドウ\")\n",
    "    label_sub.pack()\n",
    "\n",
    "# rootメインウィンドウの設定\n",
    "root = tk.Tk()\n",
    "root.title(\"tkinter:Toplevel\")\n",
    "root.geometry(\"300x100\")\n",
    "\n",
    "# メインフレームの作成と設置\n",
    "frame = tk.Frame(root)\n",
    "frame.pack(fill = tk.BOTH, padx=5, pady=10)\n",
    "\n",
    "# 各種ウィジェットの作成\n",
    "button = ttk.Button(frame, text=\"サブウィンドウ生成\", command=sub_window)\n",
    "\n",
    "# 各種ウィジェットの設置\n",
    "button.pack()\n",
    "\n",
    "root.mainloop()"
   ]
  },
  {
   "cell_type": "code",
   "execution_count": 36,
   "metadata": {},
   "outputs": [
    {
     "name": "stdout",
     "output_type": "stream",
     "text": [
      "こちらは1つ目に作成されたウィンドウです。\n",
      "こちらは2つ目に作成されたウィンドウです。\n",
      "こちらは3つ目に作成されたウィンドウです。\n"
     ]
    },
    {
     "ename": "KeyboardInterrupt",
     "evalue": "",
     "output_type": "error",
     "traceback": [
      "\u001b[1;31m---------------------------------------------------------------------------\u001b[0m",
      "\u001b[1;31mKeyboardInterrupt\u001b[0m                         Traceback (most recent call last)",
      "\u001b[1;32m<ipython-input-36-76079ced108e>\u001b[0m in \u001b[0;36m<module>\u001b[1;34m\u001b[0m\n\u001b[0;32m     42\u001b[0m \u001b[1;33m\u001b[0m\u001b[0m\n\u001b[0;32m     43\u001b[0m \u001b[1;32mif\u001b[0m \u001b[0m__name__\u001b[0m \u001b[1;33m==\u001b[0m \u001b[1;34m'__main__'\u001b[0m\u001b[1;33m:\u001b[0m\u001b[1;33m\u001b[0m\u001b[1;33m\u001b[0m\u001b[0m\n\u001b[1;32m---> 44\u001b[1;33m   \u001b[0mmain\u001b[0m\u001b[1;33m(\u001b[0m\u001b[1;33m)\u001b[0m\u001b[1;33m\u001b[0m\u001b[1;33m\u001b[0m\u001b[0m\n\u001b[0m",
      "\u001b[1;32m<ipython-input-36-76079ced108e>\u001b[0m in \u001b[0;36mmain\u001b[1;34m()\u001b[0m\n\u001b[0;32m     39\u001b[0m   \u001b[0mwin\u001b[0m \u001b[1;33m=\u001b[0m \u001b[0mtk\u001b[0m\u001b[1;33m.\u001b[0m\u001b[0mTk\u001b[0m\u001b[1;33m(\u001b[0m\u001b[1;33m)\u001b[0m\u001b[1;33m\u001b[0m\u001b[1;33m\u001b[0m\u001b[0m\n\u001b[0;32m     40\u001b[0m   \u001b[0mapp\u001b[0m \u001b[1;33m=\u001b[0m \u001b[0mApplication\u001b[0m\u001b[1;33m(\u001b[0m\u001b[0mwin\u001b[0m\u001b[1;33m)\u001b[0m\u001b[1;33m\u001b[0m\u001b[1;33m\u001b[0m\u001b[0m\n\u001b[1;32m---> 41\u001b[1;33m   \u001b[0mapp\u001b[0m\u001b[1;33m.\u001b[0m\u001b[0mmainloop\u001b[0m\u001b[1;33m(\u001b[0m\u001b[1;33m)\u001b[0m\u001b[1;33m\u001b[0m\u001b[1;33m\u001b[0m\u001b[0m\n\u001b[0m\u001b[0;32m     42\u001b[0m \u001b[1;33m\u001b[0m\u001b[0m\n\u001b[0;32m     43\u001b[0m \u001b[1;32mif\u001b[0m \u001b[0m__name__\u001b[0m \u001b[1;33m==\u001b[0m \u001b[1;34m'__main__'\u001b[0m\u001b[1;33m:\u001b[0m\u001b[1;33m\u001b[0m\u001b[1;33m\u001b[0m\u001b[0m\n",
      "\u001b[1;32m~\\anaconda3\\envs\\pyb\\lib\\tkinter\\__init__.py\u001b[0m in \u001b[0;36mmainloop\u001b[1;34m(self, n)\u001b[0m\n\u001b[0;32m   1281\u001b[0m     \u001b[1;32mdef\u001b[0m \u001b[0mmainloop\u001b[0m\u001b[1;33m(\u001b[0m\u001b[0mself\u001b[0m\u001b[1;33m,\u001b[0m \u001b[0mn\u001b[0m\u001b[1;33m=\u001b[0m\u001b[1;36m0\u001b[0m\u001b[1;33m)\u001b[0m\u001b[1;33m:\u001b[0m\u001b[1;33m\u001b[0m\u001b[1;33m\u001b[0m\u001b[0m\n\u001b[0;32m   1282\u001b[0m         \u001b[1;34m\"\"\"Call the mainloop of Tk.\"\"\"\u001b[0m\u001b[1;33m\u001b[0m\u001b[1;33m\u001b[0m\u001b[0m\n\u001b[1;32m-> 1283\u001b[1;33m         \u001b[0mself\u001b[0m\u001b[1;33m.\u001b[0m\u001b[0mtk\u001b[0m\u001b[1;33m.\u001b[0m\u001b[0mmainloop\u001b[0m\u001b[1;33m(\u001b[0m\u001b[0mn\u001b[0m\u001b[1;33m)\u001b[0m\u001b[1;33m\u001b[0m\u001b[1;33m\u001b[0m\u001b[0m\n\u001b[0m\u001b[0;32m   1284\u001b[0m     \u001b[1;32mdef\u001b[0m \u001b[0mquit\u001b[0m\u001b[1;33m(\u001b[0m\u001b[0mself\u001b[0m\u001b[1;33m)\u001b[0m\u001b[1;33m:\u001b[0m\u001b[1;33m\u001b[0m\u001b[1;33m\u001b[0m\u001b[0m\n\u001b[0;32m   1285\u001b[0m         \u001b[1;34m\"\"\"Quit the Tcl interpreter. All widgets will be destroyed.\"\"\"\u001b[0m\u001b[1;33m\u001b[0m\u001b[1;33m\u001b[0m\u001b[0m\n",
      "\u001b[1;31mKeyboardInterrupt\u001b[0m: "
     ]
    }
   ],
   "source": [
    "#https://qiita.com/michimichix521/items/e4200ea1a14c7b030a73\n",
    "#よくわかってないコピペ\n",
    "import tkinter as tk\n",
    "\n",
    "class Application(tk.Frame):\n",
    "  def __init__(self,master): #master = root\n",
    "    super().__init__(master) # frame = tk.Frame(root)に等しい\n",
    "    self.pack()　#Frameクラスにpack()メソッドがあるので使える\n",
    "    master.geometry(\"300x300\")\n",
    "    master.title(\"ベースウィンドウ\")\n",
    "\n",
    "    self.window = []\n",
    "    self.user = []\n",
    "\n",
    "    self.button = tk.Button(master,text=\"ウィンドウ作成\",command=self.buttonClick,width=10)\n",
    "    self.button.place(x=110, y=150)\n",
    "    self.button.config(fg=\"black\", bg=\"skyblue\")\n",
    "\n",
    "  def buttonClick(self):\n",
    "    self.window.append(tk.Toplevel())\n",
    "    self.user.append(User(self.window[len(self.window)-1],len(self.window)))\n",
    "\n",
    "class User(tk.Frame):\n",
    "  def __init__(self,master,num):\n",
    "    super().__init__(master)\n",
    "    self.pack()\n",
    "    self.num = num\n",
    "    master.geometry(\"300x300\")\n",
    "    master.title(str(self.num)+\"つ目に作成されたウィンドウ\")\n",
    "\n",
    "    self.button = tk.Button(master,text=\"コンソール上での確認\",command=self.buttonClick,width=20)\n",
    "    self.button.place(x=70, y=150)\n",
    "    self.button.config(fg=\"black\", bg=\"pink\")\n",
    "\n",
    "  def buttonClick(self):\n",
    "    print(\"こちらは\"+str(self.num)+\"つ目に作成されたウィンドウです。\")\n",
    "\n",
    "def main():\n",
    "  win = tk.Tk()\n",
    "  app = Application(win)\n",
    "  app.mainloop()\n",
    "\n",
    "if __name__ == '__main__':\n",
    "  main()"
   ]
  },
  {
   "cell_type": "code",
   "execution_count": 50,
   "metadata": {},
   "outputs": [
    {
     "name": "stdout",
     "output_type": "stream",
     "text": [
      "\n"
     ]
    }
   ],
   "source": [
    "#Issue入力が表示されない\n",
    "import tkinter as tk\n",
    "root=tk.Tk()\n",
    "en=tk.Entry()\n",
    "bt = tk.Button(root,text=\"button\",font=(\"\",10))\n",
    "lb = tk.Label(root,text=en.get())\n",
    "en.delete(2)\n",
    "print(en.get())\n",
    "en.pack()\n",
    "bt.pack()\n",
    "\n",
    "root.mainloop()"
   ]
  },
  {
   "cell_type": "code",
   "execution_count": 32,
   "metadata": {},
   "outputs": [
    {
     "name": "stdout",
     "output_type": "stream",
     "text": [
      "PY_VAR2\n",
      "<class 'tkinter.StringVar'>\n"
     ]
    }
   ],
   "source": [
    "import tkinter as tk\n",
    "root = tk.Tk()\n",
    "strvar = tk.StringVar()\n",
    "print(strvar)\n",
    "print(type(strvar))"
   ]
  },
  {
   "cell_type": "code",
   "execution_count": 60,
   "metadata": {},
   "outputs": [
    {
     "ename": "SyntaxError",
     "evalue": "invalid syntax (<ipython-input-60-6cc98f6452ad>, line 6)",
     "output_type": "error",
     "traceback": [
      "\u001b[1;36m  File \u001b[1;32m\"<ipython-input-60-6cc98f6452ad>\"\u001b[1;36m, line \u001b[1;32m6\u001b[0m\n\u001b[1;33m    print dir(strvar)\u001b[0m\n\u001b[1;37m            ^\u001b[0m\n\u001b[1;31mSyntaxError\u001b[0m\u001b[1;31m:\u001b[0m invalid syntax\n"
     ]
    }
   ],
   "source": [
    "#issue\n",
    "import tkinter as tk\n",
    "root = tk.Tk()\n",
    "strvar = tk.StringVar() #Stringの変数\n",
    "en = tk.Entry(text=strvar)\n",
    "strvar.set(\"あいうえお\")\n",
    "# print dir(strvar) 使えないみたい\n",
    "#https://www.lifewithpython.com/2014/02/python-get-list-of-attirbutes-of-object.html\n",
    "en.pack()\n",
    "root.mainloop()"
   ]
  },
  {
   "cell_type": "code",
   "execution_count": null,
   "metadata": {},
   "outputs": [],
   "source": []
  }
 ],
 "metadata": {
  "kernelspec": {
   "display_name": "Python 3",
   "language": "python",
   "name": "python3"
  },
  "language_info": {
   "codemirror_mode": {
    "name": "ipython",
    "version": 3
   },
   "file_extension": ".py",
   "mimetype": "text/x-python",
   "name": "python",
   "nbconvert_exporter": "python",
   "pygments_lexer": "ipython3",
   "version": "3.7.9"
  }
 },
 "nbformat": 4,
 "nbformat_minor": 4
}
